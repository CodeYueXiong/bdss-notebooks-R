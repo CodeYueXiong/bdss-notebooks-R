{
 "cells": [
  {
   "cell_type": "markdown",
   "metadata": {},
   "source": [
    "# Dataset Exploration\n",
    "----------"
   ]
  },
  {
   "cell_type": "markdown",
   "metadata": {},
   "source": [
    "## Introduction\n",
    "\n",
    "In an ideal world, we will have all of the data we want with all of the desirable properties (no missing values, no errors, standard formats, and so on). \n",
    "However, that is hardly ever true - and we have to work with using our datasets to answer questions of interest as intelligently as possible. \n",
    "\n",
    "In this notebook, we will explore our datasets to answer some questions of interest. "
   ]
  },
  {
   "cell_type": "markdown",
   "metadata": {},
   "source": [
    "### Learning Objectives\n",
    "\n",
    "This notebook will give you the opportunity to spend some hands-on time with the data. \n",
    "\n",
    "This notebook will take you around the different ways you can analyze your data. This involves looking at basic metrics in the larger dataset, taking a random sample, creating derived variables, making sense of the missing values, and so on. \n",
    "\n",
    "This will be done using both SQL and `pandas` in Python. The `sqlite3` Python package will give you the opportunity to interact with the database using SQL to pull data into Python. Some additional manipulations will be handled by Pandas in Python (by converting your datasets into dataframes).\n",
    "\n",
    "This notebook will provide an introduction and examples for: \n",
    "\n",
    "- How to create new tables from the larger tables in database (sometimes called the \"analytical frame\")\n",
    "- How to explore different variables of interest\n",
    "- How to explore aggregate metrics\n",
    "- How to handle missing values\n",
    "- How to join newly created tables"
   ]
  },
  {
   "cell_type": "markdown",
   "metadata": {},
   "source": [
    "### Methods\n",
    "\n",
    "We will be using the `sqlite3` Python package to access tables in our database - SQLite3. \n",
    "\n",
    "To read the results of our queries, we will be using the `pandas` Python package, which has the ability to read tabular data from SQL queries into a pandas DataFrame object. Within `pandas`, we will use various commands:\n",
    "\n",
    "- Subsetting data\n",
    "- `groupby`\n",
    "- `merge`\n",
    "\n",
    "Within SQL, we will use various queries to:\n",
    "\n",
    "- select data subsets\n",
    "- Sum over groups\n",
    "- create new tables\n",
    "- Count distinct values of desired variables\n",
    "- Order data by chosen variables\n",
    "- Select a random sub-sample"
   ]
  },
  {
   "cell_type": "markdown",
   "metadata": {},
   "source": [
    "## Python Setup\n",
    "\n",
    "In Python, we `import` packages. The `import` command allows us to use libraries created by others in our own work by \"importing\" them. You can think of importing a library as opening up a toolbox and pulling out a specific tool. Among the most famous Python packages:\n",
    "- `numpy` is short for \"numerical Python\". `numpy` is a lynchpin in Python's scientific computing stack. Its strengths include a powerful *N*-dimensional array object, and a large suite of functions for doing numerical computing. \n",
    "- `pandas` is a library in Python for data analysis that uses the DataFrame object (modeled after R DataFrames, for those familiar with that language) which is similiar to a spreedsheet but allows you to do your analysis programaticaly rather than the point-and-click of Excel. It is a lynchpin of the PyData stack and is built on top of `numpy`.  \n",
    "- `sqlite3` is a library that helps us connect to an sqlite3 database."
   ]
  },
  {
   "cell_type": "code",
   "execution_count": 1,
   "metadata": {},
   "outputs": [],
   "source": [
    "# pandas-related imports\n",
    "import pandas as pd\n",
    "\n",
    "# database interaction imports\n",
    "import sqlite3"
   ]
  },
  {
   "cell_type": "markdown",
   "metadata": {},
   "source": [
    "__When in doubt, use shift + tab to read the documentation of a method.__\n",
    "\n",
    "__The `help()` function provides information on what you can do with a function.__"
   ]
  },
  {
   "cell_type": "code",
   "execution_count": 2,
   "metadata": {},
   "outputs": [
    {
     "name": "stdout",
     "output_type": "stream",
     "text": [
      "Help on built-in function connect in module _sqlite3:\n",
      "\n",
      "connect(...)\n",
      "    connect(database[, timeout, detect_types, isolation_level,\n",
      "            check_same_thread, factory, cached_statements, uri])\n",
      "    \n",
      "    Opens a connection to the SQLite database file *database*. You can use\n",
      "    \":memory:\" to open a database connection to a database that resides in\n",
      "    RAM instead of on disk.\n",
      "\n"
     ]
    }
   ],
   "source": [
    "# for example\n",
    "help(sqlite3.connect)"
   ]
  },
  {
   "cell_type": "markdown",
   "metadata": {},
   "source": [
    "## Load the Data\n",
    "\n",
    "We can execute SQL queries using Python to get the best of both worlds. For example, Python - and pandas in particular - make it much easier to calculate descriptive statistics of the data. Additionally, as we will see in the Data Visualization exercises, it is relatively easy to create data visualizations using Python. \n",
    "\n",
    "Pandas provides many ways to load data. It allows the user to read the data from a local csv or excel file, pull the data from a relational database, or read directly from a URL (when you have internet access). Since we are working with an SQLite3 database, we will demonstrate how to use pandas to read data from a relational database. For examples to read data from a CSV file, refert to the pandas documentation [Getting Data In/Out](pandas.pydata.org/pandas-docs/stable/10min.html#getting-data-in-out).\n",
    "\n",
    "The function to run a SQL query and pull the data into a pandas dataframe (more to come) is `pd.read_sql()`. Just like doing a SQL query from pgAdmin, this function will ask for some information about the database, and what query you would like to run. Let's walk through the example below."
   ]
  },
  {
   "cell_type": "markdown",
   "metadata": {},
   "source": [
    "### Establish a Connection to the Database\n",
    "\n",
    "The first parameter is the connection to the database. To create a connection we will use the SQLAlchemy package and tell it which database we want to connect to, just like in pgAdmin. Additional details on creating a connection to the database are provided in the [Databases](02_1_Databases.ipynb) notebook."
   ]
  },
  {
   "cell_type": "markdown",
   "metadata": {},
   "source": [
    "__Parameter 1: Connection__"
   ]
  },
  {
   "cell_type": "code",
   "execution_count": 7,
   "metadata": {
    "scrolled": true
   },
   "outputs": [],
   "source": [
    "# to create a connection to the database, \n",
    "# we need to pass the name of the database \n",
    "\n",
    "DB = 'ncdoc.db'\n",
    "\n",
    "conn = sqlite3.connect(DB)"
   ]
  },
  {
   "cell_type": "markdown",
   "metadata": {},
   "source": [
    "### Formulate Data Query\n",
    "\n",
    "Depending on what data we are interested in, we can use different queries to pull different data. In this example, we will pull all the content of the offenders data."
   ]
  },
  {
   "cell_type": "markdown",
   "metadata": {},
   "source": [
    "__Create a query as a `string` object in Python__"
   ]
  },
  {
   "cell_type": "code",
   "execution_count": 8,
   "metadata": {},
   "outputs": [],
   "source": [
    "query = '''\n",
    "SELECT DATE()\n",
    "FROM inmate\n",
    "--LIMIT 20;\n",
    "'''"
   ]
  },
  {
   "cell_type": "markdown",
   "metadata": {},
   "source": [
    "Note:\n",
    "\n",
    "- the three quotation marks surrounding the query body is called multi-line string. It is quite handy for writing SQL queries because the new line character will be considered part of the string, instead of breaking the string"
   ]
  },
  {
   "cell_type": "code",
   "execution_count": 9,
   "metadata": {},
   "outputs": [
    {
     "name": "stdout",
     "output_type": "stream",
     "text": [
      "\n",
      "SELECT *\n",
      "FROM inmate\n",
      "--LIMIT 20;\n",
      "\n"
     ]
    }
   ],
   "source": [
    "# Now that we have defined a variable `query`, we can call it in the code\n",
    "print(query)"
   ]
  },
  {
   "cell_type": "markdown",
   "metadata": {},
   "source": [
    "> Note that the `LIMIT` provides one simple way to get a \"sample\" of data; however, using `LIMIT` does **not provide a _random_** sample. You may get different samples of data than others using just the `LIMIT` clause, but it is just based on what is fastest for the database to return."
   ]
  },
  {
   "cell_type": "markdown",
   "metadata": {},
   "source": [
    "### Pull Data from the Database\n",
    "\n",
    "Now that we have the two parameters (database connection and query), we can pass them to the `pd.read_sql()` function, and obtain the data."
   ]
  },
  {
   "cell_type": "code",
   "execution_count": 10,
   "metadata": {},
   "outputs": [],
   "source": [
    "# here we pass the query and the connection to the pd.read_sql() function and assign the variable `wage` \n",
    "# to the dataframe returned by the function\n",
    "df = pd.read_sql(query, conn)"
   ]
  },
  {
   "cell_type": "code",
   "execution_count": 11,
   "metadata": {},
   "outputs": [
    {
     "data": {
      "text/plain": [
       "(461421, 67)"
      ]
     },
     "execution_count": 11,
     "metadata": {},
     "output_type": "execute_result"
    }
   ],
   "source": [
    "df.shape"
   ]
  },
  {
   "cell_type": "markdown",
   "metadata": {},
   "source": [
    "## Analysis: Using Python and SQL\n",
    "\n",
    "__What are the characteristics of offenders in North Carolina?__\n",
    "\n",
    "To explore possible metrics, we will need to combine offender and inmate data. "
   ]
  },
  {
   "cell_type": "markdown",
   "metadata": {},
   "source": [
    "__North Carolina Department of Corrections Data__:\n",
    "- `inmate`: inmate data\n",
    "- `offender`: offender data"
   ]
  },
  {
   "cell_type": "code",
   "execution_count": 12,
   "metadata": {},
   "outputs": [],
   "source": [
    "query = '''\n",
    "SELECT *\n",
    "FROM offender\n",
    "limit 100;\n",
    "'''\n",
    "offender = pd.read_sql(query, conn)"
   ]
  },
  {
   "cell_type": "code",
   "execution_count": 13,
   "metadata": {},
   "outputs": [
    {
     "data": {
      "text/html": [
       "<div>\n",
       "<style scoped>\n",
       "    .dataframe tbody tr th:only-of-type {\n",
       "        vertical-align: middle;\n",
       "    }\n",
       "\n",
       "    .dataframe tbody tr th {\n",
       "        vertical-align: top;\n",
       "    }\n",
       "\n",
       "    .dataframe thead th {\n",
       "        text-align: right;\n",
       "    }\n",
       "</style>\n",
       "<table border=\"1\" class=\"dataframe\">\n",
       "  <thead>\n",
       "    <tr style=\"text-align: right;\">\n",
       "      <th></th>\n",
       "      <th>OFFENDER_NC_DOC_ID_NUMBER</th>\n",
       "      <th>OFFENDER_BIRTH_DATE</th>\n",
       "      <th>OFFENDER_GENDER_CODE</th>\n",
       "      <th>OFFENDER_RACE_CODE</th>\n",
       "      <th>OFFENDER_HEIGHT_(IN_INCHES)</th>\n",
       "      <th>OFFENDER_WEIGHT_(IN_LBS)</th>\n",
       "      <th>OFFENDER_SKIN_COMPLEXION_CODE</th>\n",
       "      <th>OFFENDER_HAIR_COLOR_CODE</th>\n",
       "      <th>OFFENDER_EYE_COLOR_CODE</th>\n",
       "      <th>OFFENDER_BODY_BUILD_CODE</th>\n",
       "      <th>...</th>\n",
       "      <th>OFFENDER_ETHNIC_CODE</th>\n",
       "      <th>OFFENDER_PRIMARY_LANGUAGE_CODE</th>\n",
       "      <th>OFFENDER_SHIRT_SIZE</th>\n",
       "      <th>OFFENDER_PANTS_SIZE</th>\n",
       "      <th>OFFENDER_JACKET_SIZE</th>\n",
       "      <th>OFFENDER_SHOE_SIZE</th>\n",
       "      <th>OFFENDER_DRESS_SIZE</th>\n",
       "      <th>NEXT_PHOTO_YEAR</th>\n",
       "      <th>DATE_OF_LAST_UPDATE</th>\n",
       "      <th>TIME_OF_LAST_UPDATE</th>\n",
       "    </tr>\n",
       "  </thead>\n",
       "  <tbody>\n",
       "    <tr>\n",
       "      <th>0</th>\n",
       "      <td>0000001</td>\n",
       "      <td>1974-04-04</td>\n",
       "      <td>FEMALE</td>\n",
       "      <td>BLACK</td>\n",
       "      <td>66</td>\n",
       "      <td>180</td>\n",
       "      <td>UNKNOWN</td>\n",
       "      <td>BLACK</td>\n",
       "      <td>BROWN</td>\n",
       "      <td>UNKNOWN</td>\n",
       "      <td>...</td>\n",
       "      <td>UNKNOWN</td>\n",
       "      <td>ENGLISH</td>\n",
       "      <td>00</td>\n",
       "      <td>00</td>\n",
       "      <td>00</td>\n",
       "      <td>0000</td>\n",
       "      <td>00</td>\n",
       "      <td>00</td>\n",
       "      <td>2015-02-04</td>\n",
       "      <td>13:32:12</td>\n",
       "    </tr>\n",
       "    <tr>\n",
       "      <th>1</th>\n",
       "      <td>0000003</td>\n",
       "      <td>1955-07-24</td>\n",
       "      <td>MALE</td>\n",
       "      <td>WHITE</td>\n",
       "      <td>74</td>\n",
       "      <td>240</td>\n",
       "      <td>LIGHT</td>\n",
       "      <td>BROWN</td>\n",
       "      <td>BLUE</td>\n",
       "      <td>STOCKY</td>\n",
       "      <td>...</td>\n",
       "      <td>EUROPEAN/N.AM./AUSTR</td>\n",
       "      <td>ENGLISH</td>\n",
       "      <td>00</td>\n",
       "      <td>00</td>\n",
       "      <td>00</td>\n",
       "      <td>0000</td>\n",
       "      <td>00</td>\n",
       "      <td>00</td>\n",
       "      <td>2015-05-05</td>\n",
       "      <td>17:20:06</td>\n",
       "    </tr>\n",
       "    <tr>\n",
       "      <th>2</th>\n",
       "      <td>0000004</td>\n",
       "      <td>1961-10-15</td>\n",
       "      <td>MALE</td>\n",
       "      <td>WHITE</td>\n",
       "      <td>70</td>\n",
       "      <td>150</td>\n",
       "      <td>UNKNOWN</td>\n",
       "      <td>BROWN</td>\n",
       "      <td>GREEN</td>\n",
       "      <td>UNKNOWN</td>\n",
       "      <td>...</td>\n",
       "      <td>UNKNOWN</td>\n",
       "      <td>ENGLISH</td>\n",
       "      <td>00</td>\n",
       "      <td>00</td>\n",
       "      <td>00</td>\n",
       "      <td>0000</td>\n",
       "      <td>00</td>\n",
       "      <td>00</td>\n",
       "      <td>1995-06-25</td>\n",
       "      <td>00:00:00</td>\n",
       "    </tr>\n",
       "    <tr>\n",
       "      <th>3</th>\n",
       "      <td>0000005</td>\n",
       "      <td>1972-01-22</td>\n",
       "      <td>MALE</td>\n",
       "      <td>WHITE</td>\n",
       "      <td>70</td>\n",
       "      <td>145</td>\n",
       "      <td>UNKNOWN</td>\n",
       "      <td>BLONDE</td>\n",
       "      <td>BROWN</td>\n",
       "      <td>UNKNOWN</td>\n",
       "      <td>...</td>\n",
       "      <td>UNKNOWN</td>\n",
       "      <td>ENGLISH</td>\n",
       "      <td>00</td>\n",
       "      <td>00</td>\n",
       "      <td>00</td>\n",
       "      <td>0000</td>\n",
       "      <td>00</td>\n",
       "      <td>00</td>\n",
       "      <td>2001-12-20</td>\n",
       "      <td>13:36:13</td>\n",
       "    </tr>\n",
       "    <tr>\n",
       "      <th>4</th>\n",
       "      <td>0000006</td>\n",
       "      <td>1951-07-17</td>\n",
       "      <td>MALE</td>\n",
       "      <td>WHITE</td>\n",
       "      <td>69</td>\n",
       "      <td>150</td>\n",
       "      <td>UNKNOWN</td>\n",
       "      <td>BROWN</td>\n",
       "      <td>BLUE</td>\n",
       "      <td>UNKNOWN</td>\n",
       "      <td>...</td>\n",
       "      <td>UNKNOWN</td>\n",
       "      <td>ENGLISH</td>\n",
       "      <td>00</td>\n",
       "      <td>00</td>\n",
       "      <td>00</td>\n",
       "      <td>0000</td>\n",
       "      <td>00</td>\n",
       "      <td>00</td>\n",
       "      <td>1995-06-25</td>\n",
       "      <td>00:00:00</td>\n",
       "    </tr>\n",
       "  </tbody>\n",
       "</table>\n",
       "<p>5 rows × 25 columns</p>\n",
       "</div>"
      ],
      "text/plain": [
       "  OFFENDER_NC_DOC_ID_NUMBER OFFENDER_BIRTH_DATE OFFENDER_GENDER_CODE  \\\n",
       "0                   0000001          1974-04-04               FEMALE   \n",
       "1                   0000003          1955-07-24                 MALE   \n",
       "2                   0000004          1961-10-15                 MALE   \n",
       "3                   0000005          1972-01-22                 MALE   \n",
       "4                   0000006          1951-07-17                 MALE   \n",
       "\n",
       "  OFFENDER_RACE_CODE OFFENDER_HEIGHT_(IN_INCHES) OFFENDER_WEIGHT_(IN_LBS)  \\\n",
       "0              BLACK                          66                      180   \n",
       "1              WHITE                          74                      240   \n",
       "2              WHITE                          70                      150   \n",
       "3              WHITE                          70                      145   \n",
       "4              WHITE                          69                      150   \n",
       "\n",
       "  OFFENDER_SKIN_COMPLEXION_CODE OFFENDER_HAIR_COLOR_CODE  \\\n",
       "0                       UNKNOWN                    BLACK   \n",
       "1                         LIGHT                    BROWN   \n",
       "2                       UNKNOWN                    BROWN   \n",
       "3                       UNKNOWN                   BLONDE   \n",
       "4                       UNKNOWN                    BROWN   \n",
       "\n",
       "  OFFENDER_EYE_COLOR_CODE OFFENDER_BODY_BUILD_CODE  ...  OFFENDER_ETHNIC_CODE  \\\n",
       "0                   BROWN                  UNKNOWN  ...               UNKNOWN   \n",
       "1                    BLUE                   STOCKY  ...  EUROPEAN/N.AM./AUSTR   \n",
       "2                   GREEN                  UNKNOWN  ...               UNKNOWN   \n",
       "3                   BROWN                  UNKNOWN  ...               UNKNOWN   \n",
       "4                    BLUE                  UNKNOWN  ...               UNKNOWN   \n",
       "\n",
       "  OFFENDER_PRIMARY_LANGUAGE_CODE OFFENDER_SHIRT_SIZE OFFENDER_PANTS_SIZE  \\\n",
       "0                        ENGLISH                  00                  00   \n",
       "1                        ENGLISH                  00                  00   \n",
       "2                        ENGLISH                  00                  00   \n",
       "3                        ENGLISH                  00                  00   \n",
       "4                        ENGLISH                  00                  00   \n",
       "\n",
       "  OFFENDER_JACKET_SIZE OFFENDER_SHOE_SIZE OFFENDER_DRESS_SIZE NEXT_PHOTO_YEAR  \\\n",
       "0                   00               0000                  00              00   \n",
       "1                   00               0000                  00              00   \n",
       "2                   00               0000                  00              00   \n",
       "3                   00               0000                  00              00   \n",
       "4                   00               0000                  00              00   \n",
       "\n",
       "  DATE_OF_LAST_UPDATE TIME_OF_LAST_UPDATE  \n",
       "0          2015-02-04            13:32:12  \n",
       "1          2015-05-05            17:20:06  \n",
       "2          1995-06-25            00:00:00  \n",
       "3          2001-12-20            13:36:13  \n",
       "4          1995-06-25            00:00:00  \n",
       "\n",
       "[5 rows x 25 columns]"
      ]
     },
     "execution_count": 13,
     "metadata": {},
     "output_type": "execute_result"
    }
   ],
   "source": [
    "offender.head()"
   ]
  },
  {
   "cell_type": "code",
   "execution_count": 39,
   "metadata": {},
   "outputs": [
    {
     "data": {
      "text/plain": [
       "Index(['OFFENDER_NC_DOC_ID_NUMBER', 'OFFENDER_BIRTH_DATE',\n",
       "       'OFFENDER_GENDER_CODE', 'OFFENDER_RACE_CODE',\n",
       "       'OFFENDER_HEIGHT_(IN_INCHES)', 'OFFENDER_WEIGHT_(IN_LBS)',\n",
       "       'OFFENDER_SKIN_COMPLEXION_CODE', 'OFFENDER_HAIR_COLOR_CODE',\n",
       "       'OFFENDER_EYE_COLOR_CODE', 'OFFENDER_BODY_BUILD_CODE',\n",
       "       'CITY_WHERE_OFFENDER_BORN', 'NC_COUNTY_WHERE_OFFENDER_BORN',\n",
       "       'STATE_WHERE_OFFENDER_BORN', 'COUNTRY_WHERE_OFFENDER_BORN',\n",
       "       'OFFENDER_CITIZENSHIP_CODE', 'OFFENDER_ETHNIC_CODE',\n",
       "       'OFFENDER_PRIMARY_LANGUAGE_CODE', 'OFFENDER_SHIRT_SIZE',\n",
       "       'OFFENDER_PANTS_SIZE', 'OFFENDER_JACKET_SIZE', 'OFFENDER_SHOE_SIZE',\n",
       "       'OFFENDER_DRESS_SIZE', 'NEXT_PHOTO_YEAR', 'DATE_OF_LAST_UPDATE',\n",
       "       'TIME_OF_LAST_UPDATE'],\n",
       "      dtype='object')"
      ]
     },
     "execution_count": 39,
     "metadata": {},
     "output_type": "execute_result"
    }
   ],
   "source": [
    "offender.columns"
   ]
  },
  {
   "cell_type": "code",
   "execution_count": 31,
   "metadata": {},
   "outputs": [],
   "source": [
    "query = '''\n",
    "SELECT *\n",
    "FROM inmate\n",
    "limit 100;\n",
    "'''\n",
    "inmate = pd.read_sql(query, conn)"
   ]
  },
  {
   "cell_type": "code",
   "execution_count": 32,
   "metadata": {},
   "outputs": [
    {
     "data": {
      "text/html": [
       "<div>\n",
       "<style scoped>\n",
       "    .dataframe tbody tr th:only-of-type {\n",
       "        vertical-align: middle;\n",
       "    }\n",
       "\n",
       "    .dataframe tbody tr th {\n",
       "        vertical-align: top;\n",
       "    }\n",
       "\n",
       "    .dataframe thead th {\n",
       "        text-align: right;\n",
       "    }\n",
       "</style>\n",
       "<table border=\"1\" class=\"dataframe\">\n",
       "  <thead>\n",
       "    <tr style=\"text-align: right;\">\n",
       "      <th></th>\n",
       "      <th>INMATE_DOC_NUMBER</th>\n",
       "      <th>INMATE_LAST_NAME</th>\n",
       "      <th>INMATE_FIRST_NAME</th>\n",
       "      <th>INMATE_MIDDLE_INITIAL</th>\n",
       "      <th>INMATE_NAME_SUFFIX</th>\n",
       "      <th>INMATE_NAME_SOUNDEX_CODE</th>\n",
       "      <th>INMATE_GENDER_CODE</th>\n",
       "      <th>INMATE_RACE_CODE</th>\n",
       "      <th>INMATE_BIRTH_DATE</th>\n",
       "      <th>INMATE_ETHNIC_AFFILIATION</th>\n",
       "      <th>...</th>\n",
       "      <th>CURRENT_PENDING_REVIEWS_FLAG</th>\n",
       "      <th>ESCAPE_HISTORY_FLAG</th>\n",
       "      <th>PRIOR_INCARCERATIONS_FLAG</th>\n",
       "      <th>NEXT_PAROLE_REVIEW_TYPE_CODE</th>\n",
       "      <th>TIME_OF_LAST_MOVEMENT</th>\n",
       "      <th>POPULATION/MANAGEMENT_UNIT</th>\n",
       "      <th>INMATE_POSITIVELY_IDENTIFIED</th>\n",
       "      <th>PAROLE_AND_TERMINATE_STATUS</th>\n",
       "      <th>INMATE_LABEL_STATUS_CODE</th>\n",
       "      <th>PRIMARY_OFFENSE_QUALIFIER</th>\n",
       "    </tr>\n",
       "  </thead>\n",
       "  <tbody>\n",
       "    <tr>\n",
       "      <th>0</th>\n",
       "      <td>0000004</td>\n",
       "      <td>AARON</td>\n",
       "      <td>DAVID</td>\n",
       "      <td>C</td>\n",
       "      <td></td>\n",
       "      <td></td>\n",
       "      <td>MALE</td>\n",
       "      <td>WHITE</td>\n",
       "      <td>1961-10-15</td>\n",
       "      <td>UNKNOWN</td>\n",
       "      <td>...</td>\n",
       "      <td>N</td>\n",
       "      <td>N</td>\n",
       "      <td>Y</td>\n",
       "      <td></td>\n",
       "      <td>00:09:00</td>\n",
       "      <td></td>\n",
       "      <td>YES</td>\n",
       "      <td></td>\n",
       "      <td></td>\n",
       "      <td></td>\n",
       "    </tr>\n",
       "    <tr>\n",
       "      <th>1</th>\n",
       "      <td>0000006</td>\n",
       "      <td>AARON</td>\n",
       "      <td>GERALD</td>\n",
       "      <td></td>\n",
       "      <td></td>\n",
       "      <td></td>\n",
       "      <td>MALE</td>\n",
       "      <td>WHITE</td>\n",
       "      <td>1951-07-17</td>\n",
       "      <td>UNKNOWN</td>\n",
       "      <td>...</td>\n",
       "      <td>N</td>\n",
       "      <td>N</td>\n",
       "      <td>Y</td>\n",
       "      <td></td>\n",
       "      <td>00:11:00</td>\n",
       "      <td></td>\n",
       "      <td>YES</td>\n",
       "      <td></td>\n",
       "      <td></td>\n",
       "      <td></td>\n",
       "    </tr>\n",
       "    <tr>\n",
       "      <th>2</th>\n",
       "      <td>0000008</td>\n",
       "      <td>AARON</td>\n",
       "      <td>JAMES</td>\n",
       "      <td>M</td>\n",
       "      <td></td>\n",
       "      <td></td>\n",
       "      <td>MALE</td>\n",
       "      <td>WHITE</td>\n",
       "      <td>1963-12-29</td>\n",
       "      <td>UNKNOWN</td>\n",
       "      <td>...</td>\n",
       "      <td>N</td>\n",
       "      <td>N</td>\n",
       "      <td>Y</td>\n",
       "      <td></td>\n",
       "      <td>23:59:00</td>\n",
       "      <td></td>\n",
       "      <td>YES</td>\n",
       "      <td></td>\n",
       "      <td>FILE JACKET LABEL PRINTED</td>\n",
       "      <td>PRINCIPAL</td>\n",
       "    </tr>\n",
       "    <tr>\n",
       "      <th>3</th>\n",
       "      <td>0000010</td>\n",
       "      <td>AARON</td>\n",
       "      <td>KENNETH</td>\n",
       "      <td>T</td>\n",
       "      <td></td>\n",
       "      <td></td>\n",
       "      <td>MALE</td>\n",
       "      <td>BLACK</td>\n",
       "      <td>1953-05-18</td>\n",
       "      <td>UNKNOWN</td>\n",
       "      <td>...</td>\n",
       "      <td>N</td>\n",
       "      <td>N</td>\n",
       "      <td>Y</td>\n",
       "      <td></td>\n",
       "      <td>00:13:00</td>\n",
       "      <td></td>\n",
       "      <td>YES</td>\n",
       "      <td></td>\n",
       "      <td></td>\n",
       "      <td></td>\n",
       "    </tr>\n",
       "    <tr>\n",
       "      <th>4</th>\n",
       "      <td>0000014</td>\n",
       "      <td>AARON</td>\n",
       "      <td>MOYER</td>\n",
       "      <td></td>\n",
       "      <td></td>\n",
       "      <td></td>\n",
       "      <td>MALE</td>\n",
       "      <td>WHITE</td>\n",
       "      <td>1921-08-26</td>\n",
       "      <td>UNKNOWN</td>\n",
       "      <td>...</td>\n",
       "      <td>N</td>\n",
       "      <td>N</td>\n",
       "      <td>Y</td>\n",
       "      <td></td>\n",
       "      <td>00:12:00</td>\n",
       "      <td></td>\n",
       "      <td>YES</td>\n",
       "      <td></td>\n",
       "      <td></td>\n",
       "      <td></td>\n",
       "    </tr>\n",
       "  </tbody>\n",
       "</table>\n",
       "<p>5 rows × 67 columns</p>\n",
       "</div>"
      ],
      "text/plain": [
       "  INMATE_DOC_NUMBER INMATE_LAST_NAME INMATE_FIRST_NAME INMATE_MIDDLE_INITIAL  \\\n",
       "0           0000004            AARON             DAVID                     C   \n",
       "1           0000006            AARON            GERALD                         \n",
       "2           0000008            AARON             JAMES                     M   \n",
       "3           0000010            AARON           KENNETH                     T   \n",
       "4           0000014            AARON             MOYER                         \n",
       "\n",
       "  INMATE_NAME_SUFFIX INMATE_NAME_SOUNDEX_CODE INMATE_GENDER_CODE  \\\n",
       "0                                                           MALE   \n",
       "1                                                           MALE   \n",
       "2                                                           MALE   \n",
       "3                                                           MALE   \n",
       "4                                                           MALE   \n",
       "\n",
       "  INMATE_RACE_CODE INMATE_BIRTH_DATE INMATE_ETHNIC_AFFILIATION  ...  \\\n",
       "0            WHITE        1961-10-15                   UNKNOWN  ...   \n",
       "1            WHITE        1951-07-17                   UNKNOWN  ...   \n",
       "2            WHITE        1963-12-29                   UNKNOWN  ...   \n",
       "3            BLACK        1953-05-18                   UNKNOWN  ...   \n",
       "4            WHITE        1921-08-26                   UNKNOWN  ...   \n",
       "\n",
       "  CURRENT_PENDING_REVIEWS_FLAG ESCAPE_HISTORY_FLAG PRIOR_INCARCERATIONS_FLAG  \\\n",
       "0                            N                   N                         Y   \n",
       "1                            N                   N                         Y   \n",
       "2                            N                   N                         Y   \n",
       "3                            N                   N                         Y   \n",
       "4                            N                   N                         Y   \n",
       "\n",
       "  NEXT_PAROLE_REVIEW_TYPE_CODE TIME_OF_LAST_MOVEMENT  \\\n",
       "0                                           00:09:00   \n",
       "1                                           00:11:00   \n",
       "2                                           23:59:00   \n",
       "3                                           00:13:00   \n",
       "4                                           00:12:00   \n",
       "\n",
       "  POPULATION/MANAGEMENT_UNIT INMATE_POSITIVELY_IDENTIFIED  \\\n",
       "0                                                     YES   \n",
       "1                                                     YES   \n",
       "2                                                     YES   \n",
       "3                                                     YES   \n",
       "4                                                     YES   \n",
       "\n",
       "  PAROLE_AND_TERMINATE_STATUS   INMATE_LABEL_STATUS_CODE  \\\n",
       "0                                                          \n",
       "1                                                          \n",
       "2                              FILE JACKET LABEL PRINTED   \n",
       "3                                                          \n",
       "4                                                          \n",
       "\n",
       "  PRIMARY_OFFENSE_QUALIFIER  \n",
       "0                            \n",
       "1                            \n",
       "2                 PRINCIPAL  \n",
       "3                            \n",
       "4                            \n",
       "\n",
       "[5 rows x 67 columns]"
      ]
     },
     "execution_count": 32,
     "metadata": {},
     "output_type": "execute_result"
    }
   ],
   "source": [
    "inmate.head()"
   ]
  },
  {
   "cell_type": "markdown",
   "metadata": {},
   "source": [
    "Some values seem to be missing. Let's see how many records have a value in the `naics` column."
   ]
  },
  {
   "cell_type": "code",
   "execution_count": 30,
   "metadata": {},
   "outputs": [
    {
     "data": {
      "text/html": [
       "<div>\n",
       "<style scoped>\n",
       "    .dataframe tbody tr th:only-of-type {\n",
       "        vertical-align: middle;\n",
       "    }\n",
       "\n",
       "    .dataframe tbody tr th {\n",
       "        vertical-align: top;\n",
       "    }\n",
       "\n",
       "    .dataframe thead th {\n",
       "        text-align: right;\n",
       "    }\n",
       "</style>\n",
       "<table border=\"1\" class=\"dataframe\">\n",
       "  <thead>\n",
       "    <tr style=\"text-align: right;\">\n",
       "      <th></th>\n",
       "      <th>admit_year</th>\n",
       "    </tr>\n",
       "  </thead>\n",
       "  <tbody>\n",
       "    <tr>\n",
       "      <th>0</th>\n",
       "      <td>1983</td>\n",
       "    </tr>\n",
       "    <tr>\n",
       "      <th>1</th>\n",
       "      <td>1973</td>\n",
       "    </tr>\n",
       "    <tr>\n",
       "      <th>2</th>\n",
       "      <td>1995</td>\n",
       "    </tr>\n",
       "    <tr>\n",
       "      <th>3</th>\n",
       "      <td>1977</td>\n",
       "    </tr>\n",
       "    <tr>\n",
       "      <th>4</th>\n",
       "      <td>1977</td>\n",
       "    </tr>\n",
       "    <tr>\n",
       "      <th>5</th>\n",
       "      <td>1992</td>\n",
       "    </tr>\n",
       "    <tr>\n",
       "      <th>6</th>\n",
       "      <td>1988</td>\n",
       "    </tr>\n",
       "    <tr>\n",
       "      <th>7</th>\n",
       "      <td>1977</td>\n",
       "    </tr>\n",
       "    <tr>\n",
       "      <th>8</th>\n",
       "      <td>1983</td>\n",
       "    </tr>\n",
       "    <tr>\n",
       "      <th>9</th>\n",
       "      <td>2000</td>\n",
       "    </tr>\n",
       "  </tbody>\n",
       "</table>\n",
       "</div>"
      ],
      "text/plain": [
       "  admit_year\n",
       "0       1983\n",
       "1       1973\n",
       "2       1995\n",
       "3       1977\n",
       "4       1977\n",
       "5       1992\n",
       "6       1988\n",
       "7       1977\n",
       "8       1983\n",
       "9       2000"
      ]
     },
     "execution_count": 30,
     "metadata": {},
     "output_type": "execute_result"
    }
   ],
   "source": [
    "# set the SQL query\n",
    "query =\"\"\"\n",
    "SELECT strftime(\"%Y\",INMATE_ADMISSION_DATE) as admit_year\n",
    "FROM inmate\n",
    "limit 10;\n",
    "\"\"\"\n",
    "# read the query into a DataFrame\n",
    "year = pd.read_sql(query, conn)\n",
    "\n",
    "# print the resulting DataFrame\n",
    "year"
   ]
  },
  {
   "cell_type": "code",
   "execution_count": 38,
   "metadata": {},
   "outputs": [
    {
     "data": {
      "text/plain": [
       "BLACK         229101\n",
       "WHITE         203682\n",
       "OTHER          16904\n",
       "INDIAN          9269\n",
       "UNKNOWN         1559\n",
       "ASIAN/ORTL       905\n",
       "                   1\n",
       "Name: INMATE_RACE_CODE, dtype: int64"
      ]
     },
     "execution_count": 38,
     "metadata": {},
     "output_type": "execute_result"
    }
   ],
   "source": [
    "# Missing values\n",
    "\n",
    "df['INMATE_RACE_CODE'].value_counts()"
   ]
  },
  {
   "cell_type": "code",
   "execution_count": 40,
   "metadata": {},
   "outputs": [
    {
     "data": {
      "text/plain": [
       "OTHER          41\n",
       "FORSYTH         9\n",
       "                5\n",
       "GUILFORD        4\n",
       "BURKE           4\n",
       "VANCE           3\n",
       "WAKE            3\n",
       "NEW HANOVER     3\n",
       "CATAWBA         3\n",
       "WILKES          2\n",
       "PERSON          2\n",
       "WARREN          2\n",
       "CRAVEN          1\n",
       "GRANVILLE       1\n",
       "HENDERSON       1\n",
       "ROCKINGHAM      1\n",
       "ONSLOW          1\n",
       "RUTHERFORD      1\n",
       "SAMPSON         1\n",
       "CARTERET        1\n",
       "ROWAN           1\n",
       "JOHNSTON        1\n",
       "PITT            1\n",
       "SURRY           1\n",
       "GASTON          1\n",
       "STOKES          1\n",
       "CASWELL         1\n",
       "MECKLENBURG     1\n",
       "FRANKLIN        1\n",
       "ROBESON         1\n",
       "CUMBERLAND      1\n",
       "Name: NC_COUNTY_WHERE_OFFENDER_BORN, dtype: int64"
      ]
     },
     "execution_count": 40,
     "metadata": {},
     "output_type": "execute_result"
    }
   ],
   "source": [
    "offender['NC_COUNTY_WHERE_OFFENDER_BORN'].value_counts() # some are missing"
   ]
  },
  {
   "cell_type": "code",
   "execution_count": 62,
   "metadata": {},
   "outputs": [
    {
     "name": "stdout",
     "output_type": "stream",
     "text": [
      "\n",
      "SELECT *, CAST(strftime(\"%Y\",INMATE_ADMISSION_DATE) as integer) as admit_year\n",
      "FROM inmate\n",
      "WHERE admit_year >= 1980 AND admit_year < 1990\n",
      "\n"
     ]
    }
   ],
   "source": [
    "# Let's look at every inmate in the 1980s\n",
    "\n",
    "# set the SQL query\n",
    "query =\"\"\"\n",
    "SELECT *, CAST(strftime(\"%Y\",INMATE_ADMISSION_DATE) as integer) as admit_year\n",
    "FROM inmate\n",
    "WHERE admit_year >= 1980 AND admit_year < 1990\n",
    "\"\"\"\n",
    "\n",
    "# print the query for reference\n",
    "print(query)\n",
    "\n",
    "# read the query and print the result\n",
    "\n",
    "in80 = pd.read_sql(query, conn)"
   ]
  },
  {
   "cell_type": "code",
   "execution_count": 66,
   "metadata": {},
   "outputs": [
    {
     "data": {
      "text/plain": [
       "(60799, 68)"
      ]
     },
     "execution_count": 66,
     "metadata": {},
     "output_type": "execute_result"
    }
   ],
   "source": [
    "in80.shape"
   ]
  },
  {
   "cell_type": "markdown",
   "metadata": {},
   "source": [
    "Also, some offenders are missing the NC County where they were born. Let's see how many."
   ]
  },
  {
   "cell_type": "code",
   "execution_count": 74,
   "metadata": {},
   "outputs": [
    {
     "data": {
      "text/html": [
       "<div>\n",
       "<style scoped>\n",
       "    .dataframe tbody tr th:only-of-type {\n",
       "        vertical-align: middle;\n",
       "    }\n",
       "\n",
       "    .dataframe tbody tr th {\n",
       "        vertical-align: top;\n",
       "    }\n",
       "\n",
       "    .dataframe thead th {\n",
       "        text-align: right;\n",
       "    }\n",
       "</style>\n",
       "<table border=\"1\" class=\"dataframe\">\n",
       "  <thead>\n",
       "    <tr style=\"text-align: right;\">\n",
       "      <th></th>\n",
       "      <th>count(distinct OFFENDER_NC_DOC_ID_NUMBER)</th>\n",
       "    </tr>\n",
       "  </thead>\n",
       "  <tbody>\n",
       "    <tr>\n",
       "      <th>0</th>\n",
       "      <td>314241</td>\n",
       "    </tr>\n",
       "  </tbody>\n",
       "</table>\n",
       "</div>"
      ],
      "text/plain": [
       "   count(distinct OFFENDER_NC_DOC_ID_NUMBER)\n",
       "0                                     314241"
      ]
     },
     "execution_count": 74,
     "metadata": {},
     "output_type": "execute_result"
    }
   ],
   "source": [
    "# It is likely that you will see that some employers do not have a legal name. \n",
    "# Let's find how many.\n",
    "\n",
    "#generating read SQL\n",
    "query = '''\n",
    "SELECT count(distinct OFFENDER_NC_DOC_ID_NUMBER)\n",
    "FROM offender\n",
    "WHERE NC_COUNTY_WHERE_OFFENDER_BORN IS \"\"\n",
    "'''\n",
    "# read the query into a DataFrame\n",
    "missing_county = pd.read_sql(query, conn)\n",
    "# print the resulting DataFrame\n",
    "missing_county"
   ]
  },
  {
   "cell_type": "code",
   "execution_count": 75,
   "metadata": {},
   "outputs": [
    {
     "data": {
      "text/html": [
       "<div>\n",
       "<style scoped>\n",
       "    .dataframe tbody tr th:only-of-type {\n",
       "        vertical-align: middle;\n",
       "    }\n",
       "\n",
       "    .dataframe tbody tr th {\n",
       "        vertical-align: top;\n",
       "    }\n",
       "\n",
       "    .dataframe thead th {\n",
       "        text-align: right;\n",
       "    }\n",
       "</style>\n",
       "<table border=\"1\" class=\"dataframe\">\n",
       "  <thead>\n",
       "    <tr style=\"text-align: right;\">\n",
       "      <th></th>\n",
       "      <th>count(distinct OFFENDER_NC_DOC_ID_NUMBER)</th>\n",
       "    </tr>\n",
       "  </thead>\n",
       "  <tbody>\n",
       "    <tr>\n",
       "      <th>0</th>\n",
       "      <td>1188619</td>\n",
       "    </tr>\n",
       "  </tbody>\n",
       "</table>\n",
       "</div>"
      ],
      "text/plain": [
       "   count(distinct OFFENDER_NC_DOC_ID_NUMBER)\n",
       "0                                    1188619"
      ]
     },
     "execution_count": 75,
     "metadata": {},
     "output_type": "execute_result"
    }
   ],
   "source": [
    "# It is likely that you will see that some employers do not have a legal name. \n",
    "# Let's find how many.\n",
    "\n",
    "#generating read SQL\n",
    "query = '''\n",
    "SELECT count(distinct OFFENDER_NC_DOC_ID_NUMBER)\n",
    "FROM offender\n",
    "'''\n",
    "# read the query into a DataFrame\n",
    "unique_offender = pd.read_sql(query, conn)\n",
    "# print the resulting DataFrame\n",
    "unique_offender"
   ]
  },
  {
   "cell_type": "markdown",
   "metadata": {},
   "source": [
    "## Date Variables"
   ]
  },
  {
   "cell_type": "code",
   "execution_count": 16,
   "metadata": {},
   "outputs": [],
   "source": [
    "admit_date = pd.to_datetime(df.INMATE_ADMISSION_DATE, yearfirst= True)"
   ]
  },
  {
   "cell_type": "code",
   "execution_count": 18,
   "metadata": {},
   "outputs": [],
   "source": [
    "year = [k.year for k in admit_date]"
   ]
  },
  {
   "cell_type": "code",
   "execution_count": 21,
   "metadata": {},
   "outputs": [
    {
     "data": {
      "text/plain": [
       "[1983,\n",
       " 1973,\n",
       " 1995,\n",
       " 1977,\n",
       " 1977,\n",
       " 1992,\n",
       " 1988,\n",
       " 1977,\n",
       " 1983,\n",
       " 2000,\n",
       " 1972,\n",
       " 1992,\n",
       " 1995,\n",
       " 1990,\n",
       " 2001,\n",
       " 2009,\n",
       " 1981,\n",
       " 1987,\n",
       " 1994,\n",
       " 1984]"
      ]
     },
     "execution_count": 21,
     "metadata": {},
     "output_type": "execute_result"
    }
   ],
   "source": [
    "year"
   ]
  },
  {
   "cell_type": "markdown",
   "metadata": {},
   "source": [
    "## Summary Statistics\n",
    "\n",
    "In this section, let's start looking at aggregate statistics on the data. "
   ]
  },
  {
   "cell_type": "markdown",
   "metadata": {},
   "source": [
    "Let's explore a few specific, simple questions to better understand our data:\n",
    "- How many people were admitted between 1980 and 1990?\n",
    "- How many "
   ]
  },
  {
   "cell_type": "markdown",
   "metadata": {},
   "source": [
    "> Note: __ Large tables__ can take a long time to process on shared databases. "
   ]
  },
  {
   "cell_type": "code",
   "execution_count": 77,
   "metadata": {},
   "outputs": [],
   "source": [
    "# additionally we'll use the Python time package\n",
    "# to see how long different queries takes to return\n",
    "\n",
    "import time # import time package"
   ]
  },
  {
   "cell_type": "code",
   "execution_count": null,
   "metadata": {},
   "outputs": [],
   "source": [
    "# example count of records for 2007 Q2 \n",
    "\n",
    "start_time = time.time() # get current time\n",
    "\n",
    "qry = \"\"\"\n",
    "SELECT count(*) \n",
    "FROM il_des_kcmo.il_wage         \n",
    "WHERE year = 2007 AND quarter = 2\n",
    "\"\"\"\n",
    "# print results\n",
    "print(pd.read_sql(qry, conn)) \n",
    "# print analysis time\n",
    "print('Query returned in {:.1f} seconds'.format(time.time()-start_time))"
   ]
  },
  {
   "cell_type": "markdown",
   "metadata": {},
   "source": [
    "> A **question to consider**: This simple count is one measure of the total jobs in IL in 2007 Q2. What may we want to consider when defining a \"job\" in addition to just being a row in this dataset?"
   ]
  },
  {
   "cell_type": "code",
   "execution_count": null,
   "metadata": {
    "scrolled": true
   },
   "outputs": [],
   "source": [
    "# the easiest way to look at a small subset of records is what\n",
    "# is already demonstrated above: simply add a LIMIT clause\n",
    "# again we'll look at how long this query takes to return\n",
    "\n",
    "# get current time\n",
    "start_time = time.time()\n",
    "\n",
    "query = '''\n",
    "SELECT *\n",
    "FROM il_des_kcmo.il_wage\n",
    "WHERE year = 2007 AND quarter = 2\n",
    "LIMIT 20;\n",
    "'''\n",
    "# get results\n",
    "df_earnings = pd.read_sql(query, conn)\n",
    "# print analysis time\n",
    "print('Query returned in {:.1f} seconds'.format(time.time()-start_time))"
   ]
  },
  {
   "cell_type": "code",
   "execution_count": null,
   "metadata": {},
   "outputs": [],
   "source": [
    "df_earnings.head()"
   ]
  },
  {
   "cell_type": "code",
   "execution_count": null,
   "metadata": {},
   "outputs": [],
   "source": [
    "df_earnings.columns"
   ]
  },
  {
   "cell_type": "markdown",
   "metadata": {},
   "source": [
    "> Reminder: you can refer to the documentation for more information on each dataset"
   ]
  },
  {
   "cell_type": "code",
   "execution_count": null,
   "metadata": {},
   "outputs": [],
   "source": [
    "# we can get descriptive stats from the DataFrame:\n",
    "df_earnings.describe(include='all')"
   ]
  },
  {
   "cell_type": "code",
   "execution_count": null,
   "metadata": {},
   "outputs": [],
   "source": [
    "# as with the 'count` example, we will get basic stats\n",
    "# from the database using SQL; eg the wage distribution\n",
    "\n",
    "# first, just the 25th percentile value\n",
    "query = \"\"\"\n",
    "SELECT percentile_cont(0.25)\n",
    "    WITHIN GROUP (ORDER BY wage)\n",
    "FROM il_des_kcmo.il_wage\n",
    "WHERE year = 2007 AND quarter = 2\n",
    "\"\"\"\n",
    "# display result\n",
    "pd.read_sql(query, conn)"
   ]
  },
  {
   "cell_type": "code",
   "execution_count": null,
   "metadata": {},
   "outputs": [],
   "source": [
    "# use a list of percentile values at which to show the earnings value\n",
    "query = \"\"\"\n",
    "SELECT percentile_cont(array[0.1, 0.25, 0.5, 0.75, 0.9])\n",
    "WITHIN GROUP (ORDER BY wage)\n",
    "FROM il_des_kcmo.il_wage\n",
    "WHERE year = 2007 AND quarter = 2\n",
    "\"\"\"\n",
    "# display result\n",
    "pd.read_sql(query, conn)"
   ]
  },
  {
   "cell_type": "code",
   "execution_count": null,
   "metadata": {},
   "outputs": [],
   "source": [
    "# values above return in a single cell, \n",
    "# add \"unnest\" to get values in a single cell\n",
    "# also add a reference column and column names\n",
    "\n",
    "start_time = time.time()\n",
    "\n",
    "query = \"\"\"\n",
    "SELECT unnest(\n",
    "        percentile_cont(array[0.1, 0.25, 0.5, 0.75, 0.9])\n",
    "        WITHIN GROUP (ORDER BY wage)\n",
    "    ) AS earnings_value,\n",
    "    unnest(array[0.1, 0.25, 0.5, 0.75, 0.9]) AS percentile_value\n",
    "FROM il_des_kcmo.il_wage\n",
    "WHERE year = 2007 AND quarter = 2\n",
    "\"\"\"\n",
    "# get the result\n",
    "df = pd.read_sql(query, conn)\n",
    "# print analysis time\n",
    "print('Query returned in {:.1f} seconds'.format(time.time()-start_time))\n",
    "# view result\n",
    "df"
   ]
  },
  {
   "cell_type": "markdown",
   "metadata": {},
   "source": [
    "One way to characterize a job is the employer industry. In order to run summary statistics on number of jobs per industry (NAICS code), we need to get the NAICS code from the `il_qcew_employers` table"
   ]
  },
  {
   "cell_type": "code",
   "execution_count": 82,
   "metadata": {},
   "outputs": [
    {
     "name": "stdout",
     "output_type": "stream",
     "text": [
      "query took 17.6 seconds\n"
     ]
    }
   ],
   "source": [
    "# check how many records from our inmate data matches the offender data\n",
    "# just for 2007 Q2 data\n",
    "\n",
    "start_time = time.time()\n",
    "\n",
    "qry = \"\"\"\n",
    "SELECT *\n",
    "FROM offender\n",
    "JOIN inmate\n",
    "ON offender.OFFENDER_NC_DOC_ID_NUMBER = inmate.INMATE_DOC_NUMBER\n",
    "\"\"\"\n",
    "res = pd.read_sql(qry, conn)\n",
    "print('query took {:.1f} seconds'.format(time.time()-start_time))"
   ]
  },
  {
   "cell_type": "markdown",
   "metadata": {},
   "source": [
    "> As we see here, the data have 6 digit NAICS codes. We will revisit this when we look at the breakdown of jobs and earnings by industries."
   ]
  },
  {
   "cell_type": "code",
   "execution_count": 100,
   "metadata": {},
   "outputs": [],
   "source": [
    "# what is the distribution of earnings in our sample?\n",
    "height = res['OFFENDER_HEIGHT_(IN_INCHES)'].astype(float)\n",
    "res['OFFENDER_HEIGHT_(IN_INCHES)'] = height"
   ]
  },
  {
   "cell_type": "code",
   "execution_count": 102,
   "metadata": {},
   "outputs": [
    {
     "data": {
      "text/plain": [
       "count    460900.000000\n",
       "mean         68.775103\n",
       "std           5.871367\n",
       "min           0.000000\n",
       "10%          64.000000\n",
       "25%          67.000000\n",
       "50%          69.000000\n",
       "75%          72.000000\n",
       "90%          73.000000\n",
       "max          98.000000\n",
       "Name: OFFENDER_HEIGHT_(IN_INCHES), dtype: float64"
      ]
     },
     "execution_count": 102,
     "metadata": {},
     "output_type": "execute_result"
    }
   ],
   "source": [
    "res['OFFENDER_HEIGHT_(IN_INCHES)'].describe(percentiles=[0.1,0.25,0.5, 0.75, 0.9])"
   ]
  },
  {
   "cell_type": "code",
   "execution_count": 103,
   "metadata": {
    "scrolled": true
   },
   "outputs": [
    {
     "data": {
      "text/html": [
       "<div>\n",
       "<style scoped>\n",
       "    .dataframe tbody tr th:only-of-type {\n",
       "        vertical-align: middle;\n",
       "    }\n",
       "\n",
       "    .dataframe tbody tr th {\n",
       "        vertical-align: top;\n",
       "    }\n",
       "\n",
       "    .dataframe thead th {\n",
       "        text-align: right;\n",
       "    }\n",
       "</style>\n",
       "<table border=\"1\" class=\"dataframe\">\n",
       "  <thead>\n",
       "    <tr style=\"text-align: right;\">\n",
       "      <th></th>\n",
       "      <th>count</th>\n",
       "      <th>mean</th>\n",
       "      <th>std</th>\n",
       "      <th>min</th>\n",
       "      <th>10%</th>\n",
       "      <th>25%</th>\n",
       "      <th>50%</th>\n",
       "      <th>75%</th>\n",
       "      <th>90%</th>\n",
       "      <th>max</th>\n",
       "    </tr>\n",
       "    <tr>\n",
       "      <th>INMATE_GENDER_CODE</th>\n",
       "      <th></th>\n",
       "      <th></th>\n",
       "      <th></th>\n",
       "      <th></th>\n",
       "      <th></th>\n",
       "      <th></th>\n",
       "      <th></th>\n",
       "      <th></th>\n",
       "      <th></th>\n",
       "      <th></th>\n",
       "    </tr>\n",
       "  </thead>\n",
       "  <tbody>\n",
       "    <tr>\n",
       "      <th>FEMALE</th>\n",
       "      <td>58038.0</td>\n",
       "      <td>64.074589</td>\n",
       "      <td>5.933440</td>\n",
       "      <td>0.0</td>\n",
       "      <td>61.0</td>\n",
       "      <td>63.0</td>\n",
       "      <td>64.0</td>\n",
       "      <td>66.0</td>\n",
       "      <td>68.0</td>\n",
       "      <td>91.0</td>\n",
       "    </tr>\n",
       "    <tr>\n",
       "      <th>MALE</th>\n",
       "      <td>402862.0</td>\n",
       "      <td>69.452279</td>\n",
       "      <td>5.543087</td>\n",
       "      <td>0.0</td>\n",
       "      <td>66.0</td>\n",
       "      <td>68.0</td>\n",
       "      <td>70.0</td>\n",
       "      <td>72.0</td>\n",
       "      <td>74.0</td>\n",
       "      <td>98.0</td>\n",
       "    </tr>\n",
       "  </tbody>\n",
       "</table>\n",
       "</div>"
      ],
      "text/plain": [
       "                       count       mean       std  min   10%   25%   50%  \\\n",
       "INMATE_GENDER_CODE                                                         \n",
       "FEMALE               58038.0  64.074589  5.933440  0.0  61.0  63.0  64.0   \n",
       "MALE                402862.0  69.452279  5.543087  0.0  66.0  68.0  70.0   \n",
       "\n",
       "                     75%   90%   max  \n",
       "INMATE_GENDER_CODE                    \n",
       "FEMALE              66.0  68.0  91.0  \n",
       "MALE                72.0  74.0  98.0  "
      ]
     },
     "execution_count": 103,
     "metadata": {},
     "output_type": "execute_result"
    }
   ],
   "source": [
    "# and earnings by industry?\n",
    "res.groupby('INMATE_GENDER_CODE')['OFFENDER_HEIGHT_(IN_INCHES)'].describe(percentiles=[0.1,0.25,0.5, 0.75, 0.9])"
   ]
  },
  {
   "cell_type": "code",
   "execution_count": null,
   "metadata": {},
   "outputs": [],
   "source": [
    "# now we'll query the database for earnings distribution by 2-digit NAICS in Q2 2007\n",
    "\n",
    "start_time = time.time()\n",
    "\n",
    "query=\"\"\"\n",
    "SELECT naics2, \n",
    "    unnest(percentile_cont(array[0.1,0.25,0.5, 0.75, 0.9]) \n",
    "    within group (ORDER BY earnings)) AS earnings,\n",
    "    unnest(array[0.1,0.25,0.5, 0.75, 0.9]) AS percentiles\n",
    "FROM (\n",
    "    SELECT earn.wage AS earnings, left(empl.naics, 2) AS naics2\n",
    "    FROM il_des_kcmo.il_wage AS earn\n",
    "    JOIN il_des_kcmo.il_qcew_employers AS empl\n",
    "    ON earn.ein = empl.ein AND earn.seinunit = empl.seinunit\n",
    "        AND earn.empr_no = empl.empr_no\n",
    "    WHERE earn.year = 2007 AND earn.quarter = 2 \n",
    "    AND empl.year = 2007 AND empl.quarter = 2\n",
    ") subquery\n",
    "GROUP BY naics2\n",
    "ORDER BY naics2, percentiles\n",
    "\"\"\"\n",
    "res = pd.read_sql(query, conn)\n",
    "print('query took {:.1f} seconds'.format(time.time()-start_time))"
   ]
  },
  {
   "cell_type": "code",
   "execution_count": null,
   "metadata": {},
   "outputs": [],
   "source": [
    "res.info()"
   ]
  },
  {
   "cell_type": "code",
   "execution_count": null,
   "metadata": {},
   "outputs": [],
   "source": [
    "# we can see from the count of non-null values in the `naics2` column that \n",
    "# there are some missing values in the data - we'll insert an \"Unknown\" flag:\n",
    "res.naics2.fillna('Unknown', inplace=True)"
   ]
  },
  {
   "cell_type": "code",
   "execution_count": null,
   "metadata": {},
   "outputs": [],
   "source": [
    "# DataFrames also have useful functions like pivot tables:\n",
    "res.pivot_table(values='earnings', columns='percentiles', index='naics2')"
   ]
  },
  {
   "cell_type": "markdown",
   "metadata": {},
   "source": [
    "> Wages paid by different industry is one way to explore how the **jobs very across industry groups.**\n",
    "\n",
    "## Exploring TANF data\n",
    "\n",
    "Our questions:\n",
    "- How many individuals receive TANF? What are their characteristics?\n",
    "- How many TANF recipients have a job before, during, and after they are enrolled in TANF benefits?\n",
    "\n",
    "Since the TANF data have start and end dates, we will need to consider how our questions relate to dates (whereas with the wage record data we only know if people were paid during a given quarter).\n",
    "\n",
    "Additionally, the TANF data are much more complex so here will focus on just two tables:\n",
    "1. `ind_spells` - individual level spells on different benefits (we'll further focus on just the TANF data, coded as 'tanf46' in this data)\n",
    "2. `member` - includes more information about the people, such as birthdate and gender"
   ]
  },
  {
   "cell_type": "code",
   "execution_count": null,
   "metadata": {},
   "outputs": [],
   "source": [
    "# How many spells end in Q4 of 2006?\n",
    "\n",
    "start_time = time.time()\n",
    "\n",
    "query=\"\"\"\n",
    "SELECT count(*) \n",
    "FROM il_dhs.ind_spells\n",
    "WHERE end_date >= '2006-10-01'::date AND \n",
    "    end_date < '2007-01-01'::date\n",
    "    AND benefit_type = 'tanf46'\n",
    "\"\"\"\n",
    "\n",
    "print('there are {:,.0f} TANF spells'.format(pd.read_sql(query, conn)['count'][0]))\n",
    "print('query completed in {:.2f} seconds'.format(time.time()-start_time))"
   ]
  },
  {
   "cell_type": "code",
   "execution_count": null,
   "metadata": {},
   "outputs": [],
   "source": [
    "# let's pull the list's information in the member table\n",
    "# in this query we grab just the recptno values for our\n",
    "# cohort, then use that list to pull the info from \"member\"\n",
    "start_time = time.time()\n",
    "query = \"\"\"\n",
    "SELECT * FROM il_dhs.member\n",
    "WHERE recptno IN ( SELECT recptno\n",
    "    FROM il_dhs.ind_spells\n",
    "    WHERE end_date >= '2006-10-01'::date AND \n",
    "        end_date < '2007-01-01'::date\n",
    "        AND benefit_type = 'tanf46')\n",
    "\"\"\"\n",
    "df = pd.read_sql(query, conn)\n",
    "print('query completed in {:.2f} seconds'.format(time.time()-start_time))"
   ]
  },
  {
   "cell_type": "code",
   "execution_count": null,
   "metadata": {},
   "outputs": [],
   "source": [
    "df.info()"
   ]
  },
  {
   "cell_type": "code",
   "execution_count": null,
   "metadata": {},
   "outputs": [],
   "source": [
    "# there are many more results than just our list\n",
    "# does the unique list of recptno match?\n",
    "df['recptno'].nunique()"
   ]
  },
  {
   "cell_type": "code",
   "execution_count": null,
   "metadata": {},
   "outputs": [],
   "source": [
    "# how many unque values for the 'static' variables?\n",
    "static_vars = ['recptno', 'ssn_hash', 'sex', 'rac', 'rootrace', 'foreignbn', 'birth_date']\n",
    "\n",
    "df[static_vars].nunique()"
   ]
  },
  {
   "cell_type": "code",
   "execution_count": null,
   "metadata": {},
   "outputs": [],
   "source": [
    "df.groupby(static_vars)['update_id'].count()\\\n",
    ".reset_index()\\\n",
    ".rename(columns={'update_id': 'records'})\\\n",
    ".sort_values('records',ascending=False).head()"
   ]
  },
  {
   "cell_type": "code",
   "execution_count": null,
   "metadata": {},
   "outputs": [],
   "source": [
    "df.groupby(static_vars)['update_id'].count().shape"
   ]
  },
  {
   "cell_type": "markdown",
   "metadata": {},
   "source": [
    "Instead of digging through how the member table is constructed, let's instead base our cohort selection on the `ind_spells` table"
   ]
  },
  {
   "cell_type": "code",
   "execution_count": null,
   "metadata": {},
   "outputs": [],
   "source": [
    "# columns from the member table\n",
    "print(df.columns.tolist())"
   ]
  },
  {
   "cell_type": "code",
   "execution_count": null,
   "metadata": {},
   "outputs": [],
   "source": [
    "start_time = time.time()\n",
    "query = \"\"\"\n",
    "SELECT DISTINCT ON (i.recptno) i.recptno, i.start_date, i.end_date, \n",
    "    m.birth_date, m.ssn_hash, sex, rac, rootrace\n",
    "FROM il_dhs.ind_spells i\n",
    "LEFT JOIN il_dhs.member m\n",
    "ON i.recptno = m.recptno\n",
    "WHERE end_date >= '2006-10-01'::date AND \n",
    "        end_date < '2007-01-01'::date\n",
    "        AND benefit_type = 'tanf46'\n",
    "\"\"\"\n",
    "# read the data, and additionally parse the dates\n",
    "df = pd.read_sql(query, conn, parse_dates=['start_date', 'end_date', 'birth_date'])\n",
    "print('data read in {:.2f} seconds'.format(time.time()-start_time))"
   ]
  },
  {
   "cell_type": "code",
   "execution_count": null,
   "metadata": {},
   "outputs": [],
   "source": [
    "df.info()"
   ]
  },
  {
   "cell_type": "code",
   "execution_count": null,
   "metadata": {},
   "outputs": [],
   "source": [
    "df.head()"
   ]
  },
  {
   "cell_type": "code",
   "execution_count": null,
   "metadata": {},
   "outputs": [],
   "source": [
    "# how many of our cohort are there in each of the categories we have?\n",
    "print('count by sex')\n",
    "print(df['sex'].value_counts())\n",
    "print('')\n",
    "print('count by rac')\n",
    "print(df['rac'].value_counts())\n",
    "print('')\n",
    "print('count by rootrace')\n",
    "print(df['rootrace'].value_counts())\n",
    "print('')"
   ]
  },
  {
   "cell_type": "markdown",
   "metadata": {},
   "source": [
    "### Employment and TANF\n",
    "\n",
    "Now we'll explore how many of our cohort were **employed** before, during, or after Q4 of 2006 (note: we'll further need to use their start_date to say if the job was before or during enrollment in this TANF spell)"
   ]
  },
  {
   "cell_type": "code",
   "execution_count": null,
   "metadata": {},
   "outputs": [],
   "source": [
    "# rather than selecting the cohort in a sub-query, let's use \n",
    "# the values from the data frame:\n",
    "cohort_ssns = df['ssn_hash'].unique()\n",
    "\n",
    "# reformat the list as a long string of values, this will make it easier to use in the query\n",
    "cohort_ssns = ','.join([\"'\"+ssn+\"'\" for ssn in cohort_ssns])"
   ]
  },
  {
   "cell_type": "markdown",
   "metadata": {},
   "source": [
    "> This line of code may look complicated, so let's break it down step by step:\n",
    ">\n",
    "> 1. __`... for ssn in cohort_ssns ...`__ - Loop through every element `ssn` in the list `cohort_ssns`\n",
    "> 2. __`\"'\"+ssn+\"'\" ...`__ - Return SSN value with single quote\n",
    "> 3. __`','.join(...)`__ - join all elements of the list with a comma between them\n",
    ">\n",
    "> _Additional Note: The formulation `[<action> for <item> in <iterable>]`is known as \"list comprehension\"._ "
   ]
  },
  {
   "cell_type": "code",
   "execution_count": null,
   "metadata": {},
   "outputs": [],
   "source": [
    "start_time = time.time()\n",
    "# start with before and during\n",
    "# the wage record data starts in 2005 below is only 2 years\n",
    "query = \"\"\"\n",
    "SELECT count(*) recs\n",
    "FROM il_des_kcmo.il_wage\n",
    "WHERE year < 2007\n",
    "    AND ssn IN ({})\n",
    "\"\"\".format(cohort_ssns)\n",
    "\n",
    "print('there are {} records of \"before\" or \"during\" jobs'.format(pd.read_sql(query, conn)['recs'][0]))\n",
    "print('query completed in {:.2f} seconds'.format(time.time()-start_time))"
   ]
  },
  {
   "cell_type": "code",
   "execution_count": null,
   "metadata": {},
   "outputs": [],
   "source": [
    "start_time = time.time()\n",
    "# how many after 2007Q4 - we'll only consider the following 2 years\n",
    "# the wage record data starts in 2005\n",
    "query = \"\"\"\n",
    "SELECT count(*) recs\n",
    "FROM il_des_kcmo.il_wage\n",
    "WHERE year IN (2007, 2008)\n",
    "    AND ssn IN ({})\n",
    "\"\"\".format(cohort_ssns)\n",
    "\n",
    "print('there are {} records of \"after\" jobs'.format(pd.read_sql(query, conn)['recs'][0]))\n",
    "print('query completed in {:.2f} seconds'.format(time.time()-start_time))"
   ]
  },
  {
   "cell_type": "code",
   "execution_count": null,
   "metadata": {},
   "outputs": [],
   "source": [
    "# let's pull the \"after\" jobs for some further analysis\n",
    "\n",
    "start_time = time.time()\n",
    "\n",
    "query = \"\"\"\n",
    "SELECT ssn, ein, seinunit, empr_no, wage, year, quarter\n",
    "FROM il_des_kcmo.il_wage\n",
    "WHERE year IN (2007, 2008)\n",
    "    AND ssn IN ({})\n",
    "\"\"\".format(cohort_ssns)\n",
    "df_jobs = pd.read_sql(query, conn)\n",
    "print('query completed in {:.2f} seconds'.format(time.time()-start_time))"
   ]
  },
  {
   "cell_type": "code",
   "execution_count": null,
   "metadata": {},
   "outputs": [],
   "source": [
    "df_jobs.info()"
   ]
  },
  {
   "cell_type": "code",
   "execution_count": null,
   "metadata": {},
   "outputs": [],
   "source": [
    "# how many individuals in our cohort had _any_ job in 2007 or 2008?\n",
    "df_jobs['ssn'].nunique()"
   ]
  },
  {
   "cell_type": "code",
   "execution_count": null,
   "metadata": {},
   "outputs": [],
   "source": [
    "print('{:.1f}% of our cohort had _a_ job in 2007 and/or 2008'.format(\\\n",
    "100.*df_jobs['ssn'].nunique()/df.shape[0]))"
   ]
  },
  {
   "cell_type": "markdown",
   "metadata": {},
   "source": [
    "## Creating New Measures\n",
    "- Back to [Table of Contents](#Table-of-Contents)\n",
    "\n",
    "> **Questions to consider** (we will revisit similar questions of measurement frequently during the program)\n",
    "0. What problem are we working to solve? How can we measure it?\n",
    "1. How should we define that an individual \"received a job\"? For example, definitions could be \n",
    "  * Received greater than 0 pay at some point within 1 year\n",
    "  * Received greater than minimum wage (assuming XyZ) in 6 of 8 quarters after exiting the TANF program\n",
    "2. How narrowly can you define the unit of analysis? Eg an individual who stopped receiving TANF by...\n",
    "3. What additional information do we know about these individuals?"
   ]
  },
  {
   "cell_type": "markdown",
   "metadata": {},
   "source": [
    "**Preliminary Examples**\n",
    "\n",
    "As the notebooks progress we will dig into different aspects of the above questions, but for now we will show the example of using the `df` dataframe as our study cohort and the `df_jobs` dataframe to create a few example ways to define whether each individual received a job after leaving TANF."
   ]
  },
  {
   "cell_type": "code",
   "execution_count": null,
   "metadata": {},
   "outputs": [],
   "source": [
    "# simple example of getting \"any\" job\n",
    "df['ssn_hash'].isin(df_jobs['ssn'].unique()).value_counts()"
   ]
  },
  {
   "cell_type": "code",
   "execution_count": null,
   "metadata": {},
   "outputs": [],
   "source": [
    "# simple example of getting \"any\" job - add as column to `df` DataFrame\n",
    "df['emp_any_job'] = df['ssn_hash'].isin(df_jobs['ssn'].unique())"
   ]
  },
  {
   "cell_type": "code",
   "execution_count": null,
   "metadata": {},
   "outputs": [],
   "source": [
    "# at least one quarter's earnings are over \"full-time minimum wage\" value of $2,730 in 2007\n",
    "df_jobs[df_jobs['wage']>=2730]['ssn'].nunique()"
   ]
  },
  {
   "cell_type": "code",
   "execution_count": null,
   "metadata": {},
   "outputs": [],
   "source": [
    "df['emp_1qtr_overMin'] = df['ssn_hash'].isin(df_jobs[df_jobs['wage']>=2730]['ssn'].unique())\n",
    "df['emp_1qtr_overMin'].value_counts(normalize=True)"
   ]
  },
  {
   "cell_type": "code",
   "execution_count": null,
   "metadata": {},
   "outputs": [],
   "source": [
    "# at least 4 quarters' earnings over \"full-time minimum wage\" value of $2,730 in 2007\n",
    "df_jobs[df_jobs['wage']>=2730].groupby('ssn')['wage'].count().sort_values(ascending=False).head(10)"
   ]
  },
  {
   "cell_type": "code",
   "execution_count": null,
   "metadata": {
    "scrolled": true
   },
   "outputs": [],
   "source": [
    "# check records for specific ssn value\n",
    "ssn_val = '...'\n",
    "df_jobs.query(\"ssn == '{}'\".format(ssn_val))"
   ]
  },
  {
   "cell_type": "code",
   "execution_count": null,
   "metadata": {},
   "outputs": [],
   "source": [
    "# create temporary dataframe\n",
    "temp_df = df_jobs[df_jobs['wage']>=2730].groupby('ssn')['wage'].count().reset_index().rename(columns={'wage':'count'})\n",
    "\n",
    "# add outcome measure to df\n",
    "df['emp_2qrts_overMin'] = df['ssn_hash'].isin(temp_df[temp_df['count']>=2]['ssn'])\n",
    "df['emp_2qrts_overMin'].value_counts(normalize=True)"
   ]
  },
  {
   "cell_type": "code",
   "execution_count": null,
   "metadata": {},
   "outputs": [],
   "source": [
    "df.columns"
   ]
  },
  {
   "cell_type": "code",
   "execution_count": null,
   "metadata": {},
   "outputs": [],
   "source": [
    "outcome_list = ['emp_any_job', 'emp_1qtr_overMin','emp_2qrts_overMin']\n",
    "df[outcome_list].sum() # number of True for each outcome metric"
   ]
  }
 ],
 "metadata": {
  "kernelspec": {
   "display_name": "Python 3",
   "language": "python",
   "name": "python3"
  },
  "language_info": {
   "codemirror_mode": {
    "name": "ipython",
    "version": 3
   },
   "file_extension": ".py",
   "mimetype": "text/x-python",
   "name": "python",
   "nbconvert_exporter": "python",
   "pygments_lexer": "ipython3",
   "version": "3.7.3"
  },
  "toc": {
   "nav_menu": {},
   "number_sections": false,
   "sideBar": true,
   "skip_h1_title": false,
   "toc_cell": false,
   "toc_position": {
    "height": "566px",
    "left": "0px",
    "right": "954px",
    "top": "110px",
    "width": "179px"
   },
   "toc_section_display": "block",
   "toc_window_display": false
  }
 },
 "nbformat": 4,
 "nbformat_minor": 4
}
